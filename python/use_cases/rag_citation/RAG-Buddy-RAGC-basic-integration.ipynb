{
 "cells": [
  {
   "cell_type": "code",
   "execution_count": 10,
   "metadata": {},
   "outputs": [
    {
     "name": "stdout",
     "output_type": "stream",
     "text": [
      "Traceback (most recent call last):\n",
      "  File \"<frozen runpy>\", line 198, in _run_module_as_main\n",
      "  File \"<frozen runpy>\", line 88, in _run_code\n",
      "  File \"/Users/christos/Documents/work/rag-buddy/install/lib/python3.12/site-packages/pip/__main__.py\", line 8, in <module>\n",
      "    if sys.path[0] in (\"\", os.getcwd()):\n",
      "                           ^^^^^^^^^^^\n",
      "FileNotFoundError: [Errno 2] No such file or directory\n",
      "Note: you may need to restart the kernel to use updated packages.\n"
     ]
    }
   ],
   "source": [
    "%pip install openai\n",
    "\n",
    "import openai\n",
    "import getpass"
   ]
  },
  {
   "cell_type": "code",
   "execution_count": 11,
   "metadata": {},
   "outputs": [],
   "source": [
    "# Prompt for OpenAI API key\n",
    "openai_api_key = getpass.getpass(\"Please enter your OpenAI API key: \")"
   ]
  },
  {
   "cell_type": "code",
   "execution_count": 12,
   "metadata": {},
   "outputs": [],
   "source": [
    "# Prompt for RAG Buddy key\n",
    "rag_buddy_key = getpass.getpass(\"Please enter your RAG Buddy key: \")"
   ]
  },
  {
   "cell_type": "code",
   "execution_count": 13,
   "metadata": {},
   "outputs": [],
   "source": [
    "# Needed for RAG Cache integration\n",
    "base_url = \"https://api.ragbuddy.ai/proxy/ragc/v1\"\n",
    "headers = {\"Helvia-RAG-Buddy-Token\": rag_buddy_key}"
   ]
  },
  {
   "cell_type": "code",
   "execution_count": 14,
   "metadata": {},
   "outputs": [],
   "source": [
    "# System messages\n",
    "system_intro = \"You are a customer support agent of the e-banking application called Piggy Bank Extraordinaire.\"\n",
    "system_instructions = \"\"\"Select the best article to reply to the question of the user below.\n",
    "If you can find the answer in the articles listed below, then:\n",
    "You MUST select exactly one article from the listed articles.\n",
    "You MUST add the ID of the selected article at the start of your answer in the format \"(ID:number) your answer\", For example: (ID:1) your answer.\n",
    "You MUST provide a short summarized answer.\n",
    "If you cannot find the answer in the list of articles below, then:\n",
    "You MUST say \"(ID:None) I cannot answer this\" and MUST say nothing more.\n",
    "\"\"\"\n"
   ]
  },
  {
   "cell_type": "code",
   "execution_count": 15,
   "metadata": {},
   "outputs": [],
   "source": [
    "# Articles\n",
    "retrieved_articles = \"\"\"\n",
    "## ID:123e4567-e89b-12d3-a456-426655440000    Interest Rates on Piggy Bank Extraordinaire's Savings Accounts\n",
    "At Piggy Bank Extraordinaire, we understand the importance of saving for your future. That's why our Gold Plus Savings Account offers a competitive interest rate of 2.6% per annum, ensuring your savings grow steadily over time. For those seeking more flexibility, our Silver Flexi Savings Account provides an interest rate of 1.8% per annum, with the added benefit of no minimum balance requirement. Our Bronze Everyday Savings Account is perfect for daily transactions, offering a 1.2% interest rate per annum. With Piggy Bank Extraordinaire, you can choose the savings account that best suits your financial goals and lifestyle.\n",
    "\n",
    "## ID:123e4567-e89b-12d3-a456-426655440001    Comparing Interest Rates: Piggy Bank Extraordinaire vs. Other Banks\n",
    "When it comes to choosing a bank for your savings, interest rates play a crucial role. Piggy Bank Extraordinaire stands out with its competitive rates. Our Gold Plus Savings Account offers an interest rate of 2.6% per annum, significantly higher than the industry average of 2.0%. In comparison, Big Bank offers 2.2% on its equivalent account, and Global Trust offers 2.1%. Furthermore, Piggy Bank Extraordinaire's Silver Flexi and Bronze Everyday accounts also outperform their counterparts at other banks, offering higher returns on your deposits. With Piggy Bank Extraordinaire, you can be assured of getting one of the best rates in the market for your savings.\n",
    "\n",
    "## ID:123e4567-e89b-12d3-a456-426655440002    Understanding Fixed Deposit Interest Rates at Piggy Bank Extraordinaire\n",
    "Fixed Deposits at Piggy Bank Extraordinaire are an excellent way to earn higher interest on your savings. Our Fixed Deposit accounts offer various tenures ranging from 6 months to 5 years, with interest rates varying accordingly. For a 6-month deposit, enjoy an interest rate of 2.0% per annum. The rate increases to 2.5% for a 1-year term and peaks at 3.5% for a 5-year term. These rates are designed to reward longer commitments with higher returns. Our Fixed Deposits are perfect for customers who wish to lock in their savings for a fixed period to earn a guaranteed return without the risks associated with market fluctuations.\n",
    "\"\"\"\n"
   ]
  },
  {
   "cell_type": "code",
   "execution_count": 16,
   "metadata": {},
   "outputs": [],
   "source": [
    "# User query (can be replaced with any relevant question)\n",
    "user_query = \"What are the interest rates for the Gold Plus Savings Account?\""
   ]
  },
  {
   "cell_type": "code",
   "execution_count": 17,
   "metadata": {},
   "outputs": [],
   "source": [
    "# Format the template\n",
    "template = f\"{system_intro}\\n\\nINSTRUCTIONS:\\n{system_instructions}\\n\\nARTICLES:\\n{retrieved_articles}\\n\\n\"\n",
    "\n",
    "# Initialize OpenAI client\n",
    "client = openai.OpenAI(\n",
    "    api_key=openai_api_key,\n",
    "    timeout=10,\n",
    "    default_headers=headers,\n",
    "    base_url=base_url,\n",
    ")\n",
    "\n",
    "# Prepare the messages\n",
    "messages = [\n",
    "    {\n",
    "        \"role\": \"system\",\n",
    "        \"content\": template,\n",
    "    },\n",
    "    {\"role\": \"user\", \"content\": user_query},\n",
    "]\n"
   ]
  },
  {
   "cell_type": "code",
   "execution_count": 18,
   "metadata": {},
   "outputs": [
    {
     "name": "stdout",
     "output_type": "stream",
     "text": [
      "(ID:123e4567-e89b-12d3-a456-426655440000) The interest rate for the Gold Plus Savings Account is 2.6% per annum.\n"
     ]
    }
   ],
   "source": [
    "# Call OpenAI API\n",
    "completion = client.chat.completions.create(\n",
    "    model=\"gpt-3.5-turbo\",  # Replace with the specific model name\n",
    "    messages=messages,\n",
    ")\n",
    "\n",
    "# Read the response\n",
    "response = completion.choices[0].message\n",
    "print(response.content)\n"
   ]
  }
 ],
 "metadata": {
  "kernelspec": {
   "display_name": "Python 3",
   "language": "python",
   "name": "python3"
  },
  "language_info": {
   "codemirror_mode": {
    "name": "ipython",
    "version": 3
   },
   "file_extension": ".py",
   "mimetype": "text/x-python",
   "name": "python",
   "nbconvert_exporter": "python",
   "pygments_lexer": "ipython3",
   "version": "3.12.1"
  }
 },
 "nbformat": 4,
 "nbformat_minor": 2
}
